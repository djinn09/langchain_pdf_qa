{
  "nbformat": 4,
  "nbformat_minor": 0,
  "metadata": {
    "colab": {
      "provenance": []
    },
    "kernelspec": {
      "name": "python3",
      "display_name": "Python 3"
    },
    "language_info": {
      "name": "python"
    }
  },
  "cells": [
    {
      "cell_type": "code",
      "execution_count": 32,
      "metadata": {
        "colab": {
          "base_uri": "https://localhost:8080/"
        },
        "id": "A1QtQ6DERWkK",
        "outputId": "7e5339f5-1027-4d3f-ff76-6bdf3da26d53"
      },
      "outputs": [
        {
          "output_type": "stream",
          "name": "stdout",
          "text": [
            "\u001b[?25l   \u001b[90m━━━━━━━━━━━━━━━━━━━━━━━━━━━━━━━━━━━━━━━━\u001b[0m \u001b[32m0.0/135.7 kB\u001b[0m \u001b[31m?\u001b[0m eta \u001b[36m-:--:--\u001b[0m\r\u001b[2K   \u001b[91m━━━━━━━━━━━━━━━━━━━━━━━━━━━━━━━━━━━━━━━\u001b[0m\u001b[90m╺\u001b[0m \u001b[32m133.1/135.7 kB\u001b[0m \u001b[31m5.7 MB/s\u001b[0m eta \u001b[36m0:00:01\u001b[0m\r\u001b[2K   \u001b[90m━━━━━━━━━━━━━━━━━━━━━━━━━━━━━━━━━━━━━━━━\u001b[0m \u001b[32m135.7/135.7 kB\u001b[0m \u001b[31m3.4 MB/s\u001b[0m eta \u001b[36m0:00:00\u001b[0m\n",
            "\u001b[?25h\u001b[?25l   \u001b[90m━━━━━━━━━━━━━━━━━━━━━━━━━━━━━━━━━━━━━━━━\u001b[0m \u001b[32m0.0/43.7 kB\u001b[0m \u001b[31m?\u001b[0m eta \u001b[36m-:--:--\u001b[0m\r\u001b[2K   \u001b[90m━━━━━━━━━━━━━━━━━━━━━━━━━━━━━━━━━━━━━━━━\u001b[0m \u001b[32m43.7/43.7 kB\u001b[0m \u001b[31m2.9 MB/s\u001b[0m eta \u001b[36m0:00:00\u001b[0m\n",
            "\u001b[?25h"
          ]
        }
      ],
      "source": [
        "!pip install -qU langchain pypdf langchain-community langchain-core langchain-openai langgraph"
      ]
    },
    {
      "cell_type": "code",
      "source": [
        "from langchain_community.document_loaders import PyPDFLoader\n",
        "def pdf_loader(file_path):\n",
        "  \"\"\"\n",
        "    Loads a PDF from the given file path and returns its pages as a list.\n",
        "\n",
        "    Args:\n",
        "        file_path (str): Path to the PDF file.\n",
        "\n",
        "    Returns:\n",
        "        list: A list of page objects representing the pages in the PDF.\n",
        "\n",
        "    Example:\n",
        "        pdf_pages = pdf_loader(\"example.pdf\")\n",
        "  \"\"\"\n",
        "  loader = PyPDFLoader(file_path)\n",
        "  pages = []\n",
        "  for page in loader.load():\n",
        "      pages.append(page)\n",
        "  return pages"
      ],
      "metadata": {
        "id": "27n_6xdudXb7"
      },
      "execution_count": 33,
      "outputs": []
    },
    {
      "cell_type": "code",
      "source": [
        "pages = pdf_loader(\"/content/handbook.pdf\")"
      ],
      "metadata": {
        "id": "QXKAcLzJS0Kw"
      },
      "execution_count": 24,
      "outputs": []
    },
    {
      "cell_type": "code",
      "source": [
        "pages[0]"
      ],
      "metadata": {
        "colab": {
          "base_uri": "https://localhost:8080/"
        },
        "id": "HdeQdMm-TWwx",
        "outputId": "fecc5778-6b07-4196-fe44-cda66da538dc"
      },
      "execution_count": 25,
      "outputs": [
        {
          "output_type": "execute_result",
          "data": {
            "text/plain": [
              "Document(metadata={'source': '/content/handbook.pdf', 'page': 0}, page_content='Zania, Inc.\\nZania Employee Handbook\\nSeptember 07, 2023')"
            ]
          },
          "metadata": {},
          "execution_count": 25
        }
      ]
    },
    {
      "cell_type": "code",
      "source": [],
      "metadata": {
        "id": "fR7lVuRISn5o"
      },
      "execution_count": null,
      "outputs": []
    },
    {
      "cell_type": "code",
      "source": [
        "import os\n",
        "os.environ[\"OPENAI_API_KEY\"] = \"\"\n"
      ],
      "metadata": {
        "id": "LVt1w3GJU2Cy"
      },
      "execution_count": 15,
      "outputs": []
    },
    {
      "cell_type": "code",
      "source": [
        "from langchain_openai import ChatOpenAI\n",
        "\n",
        "llm = ChatOpenAI(model=\"gpt-4o-mini\")\n"
      ],
      "metadata": {
        "id": "iViDeAnmXUrX"
      },
      "execution_count": 35,
      "outputs": []
    },
    {
      "cell_type": "code",
      "source": [],
      "metadata": {
        "id": "Pls45hjvThJu"
      },
      "execution_count": 27,
      "outputs": []
    },
    {
      "cell_type": "code",
      "source": [
        "from pydantic import BaseModel, Field\n",
        "from langchain_core.tools import tool, BaseTool\n",
        "from typing import Optional, Type, List, Union, Any\n",
        "\n",
        "from langchain_core.vectorstores import InMemoryVectorStore\n",
        "from langchain_openai import OpenAIEmbeddings\n",
        "from langchain_community.document_loaders import PyPDFLoader\n",
        "\n",
        "from langchain_core.vectorstores import InMemoryVectorStore\n",
        "from langchain_openai import OpenAIEmbeddings\n",
        "\n",
        "from langchain_openai import ChatOpenAI\n",
        "\n",
        "# Initialize the language model\n",
        "llm = ChatOpenAI(model=\"gpt-4o-mini\")\n",
        "\n",
        "# Function to load the PDF content\n",
        "def pdf_loader(file_path):\n",
        "  \"\"\"\n",
        "    Loads a PDF from the given file path and returns its pages as a list.\n",
        "\n",
        "    Args:\n",
        "        file_path (str): Path to the PDF file.\n",
        "\n",
        "    Returns:\n",
        "        list: A list of page objects representing the pages in the PDF.\n",
        "\n",
        "    Example:\n",
        "        pdf_pages = pdf_loader(\"example.pdf\")\n",
        "  \"\"\"\n",
        "  loader = PyPDFLoader(file_path)\n",
        "  pages = []\n",
        "  for page in loader.load():\n",
        "      pages.append(page)\n",
        "  return pages\n",
        "\n",
        "# Function to create a vector store from loaded pages\n",
        "def create_vector_store(pages):\n",
        "  \"\"\"\n",
        "    Creates an in-memory vector store from the provided pages.\n",
        "\n",
        "    Args:\n",
        "        pages (list): A list of page objects to be indexed.\n",
        "\n",
        "    Returns:\n",
        "        InMemoryVectorStore: The created vector store containing the indexed pages.\n",
        "  \"\"\"\n",
        "  vector_store = InMemoryVectorStore.from_documents(pages, OpenAIEmbeddings())\n",
        "  return vector_store\n",
        "\n",
        "# Simplified UserInput model\n",
        "class UserInput(BaseModel):\n",
        "    \"\"\"\n",
        "    Pydantic model to define the input data for the retrieval QA system.\n",
        "\n",
        "    Attributes:\n",
        "        file_path (str): Path to the local PDF file.\n",
        "        questions (List[str]): List of questions to ask.\n",
        "    \"\"\"\n",
        "    file_path: str = Field(..., description=\"file path for local file\")\n",
        "    questions: List[str] = Field(..., description=\"list of questions\")\n",
        "\n",
        "# Retrieval-based QA function\n",
        "def retrival_qa(questions: List[str], vector_store, top_k=5):\n",
        "  \"\"\"\n",
        "    Retrieves relevant documents and generates answers using a language model.\n",
        "\n",
        "    Args:\n",
        "        questions (List[str]): List of questions to answer.\n",
        "        vector_store (InMemoryVectorStore): The vector store containing indexed pages.\n",
        "        top_k (int): Number of documents to retrieve for each question.\n",
        "\n",
        "    Returns:\n",
        "        dict: A dictionary of questions and their corresponding answers.\n",
        "  \"\"\"\n",
        "  answers = {}\n",
        "  for que in questions:\n",
        "    docs = vector_store.similarity_search(que, k=5)\n",
        "    # Combine the content of the retrieved documents\n",
        "    context = \"\\n\\n\".join([doc.page_content for doc in docs])\n",
        "\n",
        "    # Create a prompt for the language model\n",
        "    prompt = f\"Use the following context to answer the question:\\n\\n{context}\\n\\nQuestion: {que}\\nAnswer:\"\n",
        "\n",
        "    # Generate the answer using the language model\n",
        "    answer = llm(prompt)\n",
        "    answers[que] = answer\n",
        "\n",
        "  return answers\n",
        "\n",
        "\n",
        "# Custom tool for retrieval-based QA\n",
        "class RetrivalQA(BaseTool):\n",
        "    \"\"\"\n",
        "    A custom tool that answers questions using a retrieval-based QA system.\n",
        "\n",
        "    Attributes:\n",
        "        name (str): Name of the tool.\n",
        "        description (str): Description of the tool's functionality.\n",
        "        args_schema (Type[BaseModel]): Input schema defining the required arguments.\n",
        "        return_direct (bool): Whether to return the result directly or not.\n",
        "    \"\"\"\n",
        "    name:str = \"retrieval_qa\"\n",
        "    description:str = \"Answers questions using a retrieval-based QA system.\"\n",
        "    args_schema: Type[BaseModel] = UserInput\n",
        "    return_direct: bool = True\n",
        "\n",
        "    def _run(\n",
        "        self,\n",
        "        file_path: str,\n",
        "        questions: List[str],\n",
        "    ) -> Union[str, Any]:\n",
        "        \"\"\"Runs the retrieval-based question answering for the list of questions.\"\"\"\n",
        "        try:\n",
        "            pages = pdf_loader(file_path)\n",
        "            vector_store = create_vector_store(pages = pages)\n",
        "            # Call the retrieval_qa function and get answers\n",
        "            answers = retrival_qa(questions=questions, vector_store=vector_store)\n",
        "            return str(answers)  # Return the answers as a string\n",
        "        except Exception as e:\n",
        "            return f\"Error during retrieval: {str(e)}\"\n",
        "retrival_tool = RetrivalQA()\n",
        "\n",
        "tools = [retrival_tool]\n",
        "\n"
      ],
      "metadata": {
        "id": "ODa-DzI-VC6n"
      },
      "execution_count": 85,
      "outputs": []
    },
    {
      "cell_type": "code",
      "source": [
        "from langgraph.prebuilt import create_react_agent\n",
        "from langchain_core.messages import AIMessage, HumanMessage\n",
        "\n",
        "# agent creater\n",
        "agent_executor = create_react_agent(llm, tools)"
      ],
      "metadata": {
        "id": "YTYK7UKVWKRG"
      },
      "execution_count": 86,
      "outputs": []
    },
    {
      "cell_type": "code",
      "source": [
        "agent_executor.invoke(\n",
        "    {\n",
        "        \"messages\": [\n",
        "            HumanMessage(content=\"\"\"File_Path:/content/handbook.pdf\n",
        "    Qusetions:\n",
        "    What is the name of the company?\n",
        "    Who is the CEO of the company?\n",
        "    What is their vacation policy?\n",
        "    What is the termination policy?\n",
        "  \"\"\"\n",
        "  )]}\n",
        ")"
      ],
      "metadata": {
        "colab": {
          "base_uri": "https://localhost:8080/"
        },
        "id": "E5L0Y_2Bb7SG",
        "outputId": "18971f5a-0488-4614-c2fb-099473d4c35a"
      },
      "execution_count": 87,
      "outputs": [
        {
          "output_type": "execute_result",
          "data": {
            "text/plain": [
              "{'messages': [HumanMessage(content='File_Path:/content/handbook.pdf\\n    Qusetions:\\n    What is the name of the company?\\n    Who is the CEO of the company?\\n    What is their vacation policy?\\n    What is the termination policy?\\n  ', additional_kwargs={}, response_metadata={}, id='d529c116-d375-4b32-a5ad-ecb7d110b94f'),\n",
              "  AIMessage(content='', additional_kwargs={'tool_calls': [{'id': 'call_P7Wq1srRhEv2TjnGlVewUl2P', 'function': {'arguments': '{\"file_path\":\"/content/handbook.pdf\",\"questions\":[\"What is the name of the company?\",\"Who is the CEO of the company?\",\"What is their vacation policy?\",\"What is the termination policy?\"]}', 'name': 'retrieval_qa'}, 'type': 'function'}], 'refusal': None}, response_metadata={'token_usage': {'completion_tokens': 59, 'prompt_tokens': 110, 'total_tokens': 169, 'completion_tokens_details': {'accepted_prediction_tokens': 0, 'audio_tokens': 0, 'reasoning_tokens': 0, 'rejected_prediction_tokens': 0}, 'prompt_tokens_details': {'audio_tokens': 0, 'cached_tokens': 0}}, 'model_name': 'gpt-4o-mini-2024-07-18', 'system_fingerprint': 'fp_0aa8d3e20b', 'finish_reason': 'tool_calls', 'logprobs': None}, id='run-2f41cae4-3084-4f53-b090-faeb6b0ed2f8-0', tool_calls=[{'name': 'retrieval_qa', 'args': {'file_path': '/content/handbook.pdf', 'questions': ['What is the name of the company?', 'Who is the CEO of the company?', 'What is their vacation policy?', 'What is the termination policy?']}, 'id': 'call_P7Wq1srRhEv2TjnGlVewUl2P', 'type': 'tool_call'}], usage_metadata={'input_tokens': 110, 'output_tokens': 59, 'total_tokens': 169, 'input_token_details': {'audio': 0, 'cache_read': 0}, 'output_token_details': {'audio': 0, 'reasoning': 0}}),\n",
              "  ToolMessage(content='{\\'What is the name of the company?\\': AIMessage(content=\\'The name of the company is Zania, Inc.\\', additional_kwargs={\\'refusal\\': None}, response_metadata={\\'token_usage\\': {\\'completion_tokens\\': 12, \\'prompt_tokens\\': 2120, \\'total_tokens\\': 2132, \\'completion_tokens_details\\': {\\'accepted_prediction_tokens\\': 0, \\'audio_tokens\\': 0, \\'reasoning_tokens\\': 0, \\'rejected_prediction_tokens\\': 0}, \\'prompt_tokens_details\\': {\\'audio_tokens\\': 0, \\'cached_tokens\\': 1920}}, \\'model_name\\': \\'gpt-4o-mini-2024-07-18\\', \\'system_fingerprint\\': \\'fp_d02d531b47\\', \\'finish_reason\\': \\'stop\\', \\'logprobs\\': None}, id=\\'run-f63328da-9313-4097-b461-a398c64ab2dc-0\\', usage_metadata={\\'input_tokens\\': 2120, \\'output_tokens\\': 12, \\'total_tokens\\': 2132, \\'input_token_details\\': {\\'audio\\': 0, \\'cache_read\\': 1920}, \\'output_token_details\\': {\\'audio\\': 0, \\'reasoning\\': 0}}), \\'Who is the CEO of the company?\\': AIMessage(content=\\'The CEO of the company is Shruti Gupta.\\', additional_kwargs={\\'refusal\\': None}, response_metadata={\\'token_usage\\': {\\'completion_tokens\\': 11, \\'prompt_tokens\\': 1958, \\'total_tokens\\': 1969, \\'completion_tokens_details\\': {\\'accepted_prediction_tokens\\': 0, \\'audio_tokens\\': 0, \\'reasoning_tokens\\': 0, \\'rejected_prediction_tokens\\': 0}, \\'prompt_tokens_details\\': {\\'audio_tokens\\': 0, \\'cached_tokens\\': 1792}}, \\'model_name\\': \\'gpt-4o-mini-2024-07-18\\', \\'system_fingerprint\\': \\'fp_d02d531b47\\', \\'finish_reason\\': \\'stop\\', \\'logprobs\\': None}, id=\\'run-d007138e-c729-4d31-b470-8c8d6b0228cf-0\\', usage_metadata={\\'input_tokens\\': 1958, \\'output_tokens\\': 11, \\'total_tokens\\': 1969, \\'input_token_details\\': {\\'audio\\': 0, \\'cache_read\\': 1792}, \\'output_token_details\\': {\\'audio\\': 0, \\'reasoning\\': 0}}), \\'What is their vacation policy?\\': AIMessage(content=\"Zania, Inc. provides paid vacation to its employees, with the following key points regarding their vacation policy:\\\\n\\\\n1. **Eligibility**: All full-time regular employees are eligible for vacation time, which can be available immediately upon hire, after completing an introductory period, or after completing a certain number of days of employment, depending on the company\\'s specific policy.\\\\n\\\\n2. **Vacation Accrual**: Vacation is calculated based on either the employee\\'s work anniversary year, the calendar year, or the fiscal year. Employees may accrue vacation according to a predetermined schedule based on their length of service, with different amounts granted for each year of employment.\\\\n\\\\n3. **Maximum Accrual**: There is a maximum accrual limit for vacation time. Once employees reach this limit, they will not accrue additional vacation until they use some of their accrued time.\\\\n\\\\n4. **Leave Usage**: Employees are encouraged to use their vacation time. Requests for vacation should be made to a manager as far in advance as possible, with a specified notice period required. The company aims to grant vacation requests, considering business needs and employee seniority.\\\\n\\\\n5. **Carryover**: Depending on the company\\'s policy, unused vacation may carry over to the following year, or it may be forfeited if not used by a certain date.\\\\n\\\\n6. **Separation of Employment**: Upon leaving the company, employees may either forfeit any earned but unused vacation time or be paid for it, unless dictated otherwise by state law.\\\\n\\\\n7. **During Leave of Absence**: Employees may be required to use any unused vacation during disability or family medical leave, where permissible by law.\\\\n\\\\nOverall, the policy emphasizes the importance of taking time off while providing a structure for accrual, usage, and carryover of vacation time.\", additional_kwargs={\\'refusal\\': None}, response_metadata={\\'token_usage\\': {\\'completion_tokens\\': 359, \\'prompt_tokens\\': 2911, \\'total_tokens\\': 3270, \\'completion_tokens_details\\': {\\'accepted_prediction_tokens\\': 0, \\'audio_tokens\\': 0, \\'reasoning_tokens\\': 0, \\'rejected_prediction_tokens\\': 0}, \\'prompt_tokens_details\\': {\\'audio_tokens\\': 0, \\'cached_tokens\\': 2688}}, \\'model_name\\': \\'gpt-4o-mini-2024-07-18\\', \\'system_fingerprint\\': \\'fp_0aa8d3e20b\\', \\'finish_reason\\': \\'stop\\', \\'logprobs\\': None}, id=\\'run-4155236e-1dd4-410b-a310-b6e1dd96bfce-0\\', usage_metadata={\\'input_tokens\\': 2911, \\'output_tokens\\': 359, \\'total_tokens\\': 3270, \\'input_token_details\\': {\\'audio\\': 0, \\'cache_read\\': 2688}, \\'output_token_details\\': {\\'audio\\': 0, \\'reasoning\\': 0}}), \\'What is the termination policy?\\': AIMessage(content=\\'The termination policy at Zania, Inc. is based on \"at-will\" employment, which means that either the employee or the Company can terminate the employment relationship at any time, with or without notice and with or without cause. This policy does not create a contract for guaranteed or continued employment, nor does it provide rights to termination only \"for cause.\" The CEO is the only person authorized to make promises regarding guaranteed or continued employment, and such promises must be in writing and signed by the CEO. Overall, the Company reserves the right to discipline or terminate employees for any reason permitted by law.\\', additional_kwargs={\\'refusal\\': None}, response_metadata={\\'token_usage\\': {\\'completion_tokens\\': 121, \\'prompt_tokens\\': 3287, \\'total_tokens\\': 3408, \\'completion_tokens_details\\': {\\'accepted_prediction_tokens\\': 0, \\'audio_tokens\\': 0, \\'reasoning_tokens\\': 0, \\'rejected_prediction_tokens\\': 0}, \\'prompt_tokens_details\\': {\\'audio_tokens\\': 0, \\'cached_tokens\\': 0}}, \\'model_name\\': \\'gpt-4o-mini-2024-07-18\\', \\'system_fingerprint\\': \\'fp_0aa8d3e20b\\', \\'finish_reason\\': \\'stop\\', \\'logprobs\\': None}, id=\\'run-3dd7dad9-72be-415a-afa9-b3274dcc2c10-0\\', usage_metadata={\\'input_tokens\\': 3287, \\'output_tokens\\': 121, \\'total_tokens\\': 3408, \\'input_token_details\\': {\\'audio\\': 0, \\'cache_read\\': 0}, \\'output_token_details\\': {\\'audio\\': 0, \\'reasoning\\': 0}})}', name='retrieval_qa', id='f046b96a-9851-4d13-8369-eb5e6ae90bbc', tool_call_id='call_P7Wq1srRhEv2TjnGlVewUl2P')]}"
            ]
          },
          "metadata": {},
          "execution_count": 87
        }
      ]
    },
    {
      "cell_type": "code",
      "source": [
        "\"\"\"\n",
        "{'messages': [HumanMessage(content='File_Path:/content/handbook.pdf\\n    Qusetions:\\n    What is the name of the company?\\n    Who is the CEO of the company?\\n    What is their vacation policy?\\n    What is the termination policy?\\n  ', additional_kwargs={}, response_metadata={}, id='d529c116-d375-4b32-a5ad-ecb7d110b94f'),\n",
        "  AIMessage(content='', additional_kwargs={'tool_calls': [{'id': 'call_P7Wq1srRhEv2TjnGlVewUl2P', 'function': {'arguments': '{\"file_path\":\"/content/handbook.pdf\",\"questions\":[\"What is the name of the company?\",\"Who is the CEO of the company?\",\"What is their vacation policy?\",\"What is the termination policy?\"]}', 'name': 'retrieval_qa'}, 'type': 'function'}], 'refusal': None}, response_metadata={'token_usage': {'completion_tokens': 59, 'prompt_tokens': 110, 'total_tokens': 169, 'completion_tokens_details': {'accepted_prediction_tokens': 0, 'audio_tokens': 0, 'reasoning_tokens': 0, 'rejected_prediction_tokens': 0}, 'prompt_tokens_details': {'audio_tokens': 0, 'cached_tokens': 0}}, 'model_name': 'gpt-4o-mini-2024-07-18', 'system_fingerprint': 'fp_0aa8d3e20b', 'finish_reason': 'tool_calls', 'logprobs': None}, id='run-2f41cae4-3084-4f53-b090-faeb6b0ed2f8-0', tool_calls=[{'name': 'retrieval_qa', 'args': {'file_path': '/content/handbook.pdf', 'questions': ['What is the name of the company?', 'Who is the CEO of the company?', 'What is their vacation policy?', 'What is the termination policy?']}, 'id': 'call_P7Wq1srRhEv2TjnGlVewUl2P', 'type': 'tool_call'}], usage_metadata={'input_tokens': 110, 'output_tokens': 59, 'total_tokens': 169, 'input_token_details': {'audio': 0, 'cache_read': 0}, 'output_token_details': {'audio': 0, 'reasoning': 0}}),\n",
        "  ToolMessage(content='{\\'What is the name of the company?\\': AIMessage(content=\\'The name of the company is Zania, Inc.\\', additional_kwargs={\\'refusal\\': None}, response_metadata={\\'token_usage\\': {\\'completion_tokens\\': 12, \\'prompt_tokens\\': 2120, \\'total_tokens\\': 2132, \\'completion_tokens_details\\': {\\'accepted_prediction_tokens\\': 0, \\'audio_tokens\\': 0, \\'reasoning_tokens\\': 0, \\'rejected_prediction_tokens\\': 0}, \\'prompt_tokens_details\\': {\\'audio_tokens\\': 0, \\'cached_tokens\\': 1920}}, \\'model_name\\': \\'gpt-4o-mini-2024-07-18\\', \\'system_fingerprint\\': \\'fp_d02d531b47\\', \\'finish_reason\\': \\'stop\\', \\'logprobs\\': None}, id=\\'run-f63328da-9313-4097-b461-a398c64ab2dc-0\\', usage_metadata={\\'input_tokens\\': 2120, \\'output_tokens\\': 12, \\'total_tokens\\': 2132, \\'input_token_details\\': {\\'audio\\': 0, \\'cache_read\\': 1920}, \\'output_token_details\\': {\\'audio\\': 0, \\'reasoning\\': 0}}), \\'Who is the CEO of the company?\\': AIMessage(content=\\'The CEO of the company is Shruti Gupta.\\', additional_kwargs={\\'refusal\\': None}, response_metadata={\\'token_usage\\': {\\'completion_tokens\\': 11, \\'prompt_tokens\\': 1958, \\'total_tokens\\': 1969, \\'completion_tokens_details\\': {\\'accepted_prediction_tokens\\': 0, \\'audio_tokens\\': 0, \\'reasoning_tokens\\': 0, \\'rejected_prediction_tokens\\': 0}, \\'prompt_tokens_details\\': {\\'audio_tokens\\': 0, \\'cached_tokens\\': 1792}}, \\'model_name\\': \\'gpt-4o-mini-2024-07-18\\', \\'system_fingerprint\\': \\'fp_d02d531b47\\', \\'finish_reason\\': \\'stop\\', \\'logprobs\\': None}, id=\\'run-d007138e-c729-4d31-b470-8c8d6b0228cf-0\\', usage_metadata={\\'input_tokens\\': 1958, \\'output_tokens\\': 11, \\'total_tokens\\': 1969, \\'input_token_details\\': {\\'audio\\': 0, \\'cache_read\\': 1792}, \\'output_token_details\\': {\\'audio\\': 0, \\'reasoning\\': 0}}), \\'What is their vacation policy?\\': AIMessage(content=\"Zania, Inc. provides paid vacation to its employees, with the following key points regarding their vacation policy:\\\\n\\\\n1. **Eligibility**: All full-time regular employees are eligible for vacation time, which can be available immediately upon hire, after completing an introductory period, or after completing a certain number of days of employment, depending on the company\\'s specific policy.\\\\n\\\\n2. **Vacation Accrual**: Vacation is calculated based on either the employee\\'s work anniversary year, the calendar year, or the fiscal year. Employees may accrue vacation according to a predetermined schedule based on their length of service, with different amounts granted for each year of employment.\\\\n\\\\n3. **Maximum Accrual**: There is a maximum accrual limit for vacation time. Once employees reach this limit, they will not accrue additional vacation until they use some of their accrued time.\\\\n\\\\n4. **Leave Usage**: Employees are encouraged to use their vacation time. Requests for vacation should be made to a manager as far in advance as possible, with a specified notice period required. The company aims to grant vacation requests, considering business needs and employee seniority.\\\\n\\\\n5. **Carryover**: Depending on the company\\'s policy, unused vacation may carry over to the following year, or it may be forfeited if not used by a certain date.\\\\n\\\\n6. **Separation of Employment**: Upon leaving the company, employees may either forfeit any earned but unused vacation time or be paid for it, unless dictated otherwise by state law.\\\\n\\\\n7. **During Leave of Absence**: Employees may be required to use any unused vacation during disability or family medical leave, where permissible by law.\\\\n\\\\nOverall, the policy emphasizes the importance of taking time off while providing a structure for accrual, usage, and carryover of vacation time.\", additional_kwargs={\\'refusal\\': None}, response_metadata={\\'token_usage\\': {\\'completion_tokens\\': 359, \\'prompt_tokens\\': 2911, \\'total_tokens\\': 3270, \\'completion_tokens_details\\': {\\'accepted_prediction_tokens\\': 0, \\'audio_tokens\\': 0, \\'reasoning_tokens\\': 0, \\'rejected_prediction_tokens\\': 0}, \\'prompt_tokens_details\\': {\\'audio_tokens\\': 0, \\'cached_tokens\\': 2688}}, \\'model_name\\': \\'gpt-4o-mini-2024-07-18\\', \\'system_fingerprint\\': \\'fp_0aa8d3e20b\\', \\'finish_reason\\': \\'stop\\', \\'logprobs\\': None}, id=\\'run-4155236e-1dd4-410b-a310-b6e1dd96bfce-0\\', usage_metadata={\\'input_tokens\\': 2911, \\'output_tokens\\': 359, \\'total_tokens\\': 3270, \\'input_token_details\\': {\\'audio\\': 0, \\'cache_read\\': 2688}, \\'output_token_details\\': {\\'audio\\': 0, \\'reasoning\\': 0}}), \\'What is the termination policy?\\': AIMessage(content=\\'The termination policy at Zania, Inc. is based on \"at-will\" employment, which means that either the employee or the Company can terminate the employment relationship at any time, with or without notice and with or without cause. This policy does not create a contract for guaranteed or continued employment, nor does it provide rights to termination only \"for cause.\" The CEO is the only person authorized to make promises regarding guaranteed or continued employment, and such promises must be in writing and signed by the CEO. Overall, the Company reserves the right to discipline or terminate employees for any reason permitted by law.\\', additional_kwargs={\\'refusal\\': None}, response_metadata={\\'token_usage\\': {\\'completion_tokens\\': 121, \\'prompt_tokens\\': 3287, \\'total_tokens\\': 3408, \\'completion_tokens_details\\': {\\'accepted_prediction_tokens\\': 0, \\'audio_tokens\\': 0, \\'reasoning_tokens\\': 0, \\'rejected_prediction_tokens\\': 0}, \\'prompt_tokens_details\\': {\\'audio_tokens\\': 0, \\'cached_tokens\\': 0}}, \\'model_name\\': \\'gpt-4o-mini-2024-07-18\\', \\'system_fingerprint\\': \\'fp_0aa8d3e20b\\', \\'finish_reason\\': \\'stop\\', \\'logprobs\\': None}, id=\\'run-3dd7dad9-72be-415a-afa9-b3274dcc2c10-0\\', usage_metadata={\\'input_tokens\\': 3287, \\'output_tokens\\': 121, \\'total_tokens\\': 3408, \\'input_token_details\\': {\\'audio\\': 0, \\'cache_read\\': 0}, \\'output_token_details\\': {\\'audio\\': 0, \\'reasoning\\': 0}})}', name='retrieval_qa', id='f046b96a-9851-4d13-8369-eb5e6ae90bbc', tool_call_id='call_P7Wq1srRhEv2TjnGlVewUl2P')]}\n",
        "\"\"\""
      ],
      "metadata": {
        "colab": {
          "base_uri": "https://localhost:8080/",
          "height": 140
        },
        "id": "5XPChS6ajwXq",
        "outputId": "74217886-4c91-45d7-d21e-e66a0fdda71c"
      },
      "execution_count": 88,
      "outputs": [
        {
          "output_type": "execute_result",
          "data": {
            "text/plain": [
              "'\\n{\\'messages\\': [HumanMessage(content=\\'File_Path:/content/handbook.pdf\\n    Qusetions:\\n    What is the name of the company?\\n    Who is the CEO of the company?\\n    What is their vacation policy?\\n    What is the termination policy?\\n  \\', additional_kwargs={}, response_metadata={}, id=\\'d529c116-d375-4b32-a5ad-ecb7d110b94f\\'),\\n  AIMessage(content=\\'\\', additional_kwargs={\\'tool_calls\\': [{\\'id\\': \\'call_P7Wq1srRhEv2TjnGlVewUl2P\\', \\'function\\': {\\'arguments\\': \\'{\"file_path\":\"/content/handbook.pdf\",\"questions\":[\"What is the name of the company?\",\"Who is the CEO of the company?\",\"What is their vacation policy?\",\"What is the termination policy?\"]}\\', \\'name\\': \\'retrieval_qa\\'}, \\'type\\': \\'function\\'}], \\'refusal\\': None}, response_metadata={\\'token_usage\\': {\\'completion_tokens\\': 59, \\'prompt_tokens\\': 110, \\'total_tokens\\': 169, \\'completion_tokens_details\\': {\\'accepted_prediction_tokens\\': 0, \\'audio_tokens\\': 0, \\'reasoning_tokens\\': 0, \\'rejected_prediction_tokens\\': 0}, \\'prompt_tokens_details\\': {\\'audio_tokens\\': 0, \\'cached_tokens\\': 0}}, \\'model_name\\': \\'gpt-4o-mini-2024-07-18\\', \\'system_fingerprint\\': \\'fp_0aa8d3e20b\\', \\'finish_reason\\': \\'tool_calls\\', \\'logprobs\\': None}, id=\\'run-2f41cae4-3084-4f53-b090-faeb6b0ed2f8-0\\', tool_calls=[{\\'name\\': \\'retrieval_qa\\', \\'args\\': {\\'file_path\\': \\'/content/handbook.pdf\\', \\'questions\\': [\\'What is the name of the company?\\', \\'Who is the CEO of the company?\\', \\'What is their vacation policy?\\', \\'What is the termination policy?\\']}, \\'id\\': \\'call_P7Wq1srRhEv2TjnGlVewUl2P\\', \\'type\\': \\'tool_call\\'}], usage_metadata={\\'input_tokens\\': 110, \\'output_tokens\\': 59, \\'total_tokens\\': 169, \\'input_token_details\\': {\\'audio\\': 0, \\'cache_read\\': 0}, \\'output_token_details\\': {\\'audio\\': 0, \\'reasoning\\': 0}}),\\n  ToolMessage(content=\\'{\\'What is the name of the company?\\': AIMessage(content=\\'The name of the company is Zania, Inc.\\', additional_kwargs={\\'refusal\\': None}, response_metadata={\\'token_usage\\': {\\'completion_tokens\\': 12, \\'prompt_tokens\\': 2120, \\'total_tokens\\': 2132, \\'completion_tokens_details\\': {\\'accepted_prediction_tokens\\': 0, \\'audio_tokens\\': 0, \\'reasoning_tokens\\': 0, \\'rejected_prediction_tokens\\': 0}, \\'prompt_tokens_details\\': {\\'audio_tokens\\': 0, \\'cached_tokens\\': 1920}}, \\'model_name\\': \\'gpt-4o-mini-2024-07-18\\', \\'system_fingerprint\\': \\'fp_d02d531b47\\', \\'finish_reason\\': \\'stop\\', \\'logprobs\\': None}, id=\\'run-f63328da-9313-4097-b461-a398c64ab2dc-0\\', usage_metadata={\\'input_tokens\\': 2120, \\'output_tokens\\': 12, \\'total_tokens\\': 2132, \\'input_token_details\\': {\\'audio\\': 0, \\'cache_read\\': 1920}, \\'output_token_details\\': {\\'audio\\': 0, \\'reasoning\\': 0}}), \\'Who is the CEO of the company?\\': AIMessage(content=\\'The CEO of the company is Shruti Gupta.\\', additional_kwargs={\\'refusal\\': None}, response_metadata={\\'token_usage\\': {\\'completion_tokens\\': 11, \\'prompt_tokens\\': 1958, \\'total_tokens\\': 1969, \\'completion_tokens_details\\': {\\'accepted_prediction_tokens\\': 0, \\'audio_tokens\\': 0, \\'reasoning_tokens\\': 0, \\'rejected_prediction_tokens\\': 0}, \\'prompt_tokens_details\\': {\\'audio_tokens\\': 0, \\'cached_tokens\\': 1792}}, \\'model_name\\': \\'gpt-4o-mini-2024-07-18\\', \\'system_fingerprint\\': \\'fp_d02d531b47\\', \\'finish_reason\\': \\'stop\\', \\'logprobs\\': None}, id=\\'run-d007138e-c729-4d31-b470-8c8d6b0228cf-0\\', usage_metadata={\\'input_tokens\\': 1958, \\'output_tokens\\': 11, \\'total_tokens\\': 1969, \\'input_token_details\\': {\\'audio\\': 0, \\'cache_read\\': 1792}, \\'output_token_details\\': {\\'audio\\': 0, \\'reasoning\\': 0}}), \\'What is their vacation policy?\\': AIMessage(content=\"Zania, Inc. provides paid vacation to its employees, with the following key points regarding their vacation policy:\\\\n\\\\n1. **Eligibility**: All full-time regular employees are eligible for vacation time, which can be available immediately upon hire, after completing an introductory period, or after completing a certain number of days of employment, depending on the company\\'s specific policy.\\\\n\\\\n2. **Vacation Accrual**: Vacation is calculated based on either the employee\\'s work anniversary year, the calendar year, or the fiscal year. Employees may accrue vacation according to a predetermined schedule based on their length of service, with different amounts granted for each year of employment.\\\\n\\\\n3. **Maximum Accrual**: There is a maximum accrual limit for vacation time. Once employees reach this limit, they will not accrue additional vacation until they use some of their accrued time.\\\\n\\\\n4. **Leave Usage**: Employees are encouraged to use their vacation time. Requests for vacation should be made to a manager as far in advance as possible, with a specified notice period required. The company aims to grant vacation requests, considering business needs and employee seniority.\\\\n\\\\n5. **Carryover**: Depending on the company\\'s policy, unused vacation may carry over to the following year, or it may be forfeited if not used by a certain date.\\\\n\\\\n6. **Separation of Employment**: Upon leaving the company, employees may either forfeit any earned but unused vacation time or be paid for it, unless dictated otherwise by state law.\\\\n\\\\n7. **During Leave of Absence**: Employees may be required to use any unused vacation during disability or family medical leave, where permissible by law.\\\\n\\\\nOverall, the policy emphasizes the importance of taking time off while providing a structure for accrual, usage, and carryover of vacation time.\", additional_kwargs={\\'refusal\\': None}, response_metadata={\\'token_usage\\': {\\'completion_tokens\\': 359, \\'prompt_tokens\\': 2911, \\'total_tokens\\': 3270, \\'completion_tokens_details\\': {\\'accepted_prediction_tokens\\': 0, \\'audio_tokens\\': 0, \\'reasoning_tokens\\': 0, \\'rejected_prediction_tokens\\': 0}, \\'prompt_tokens_details\\': {\\'audio_tokens\\': 0, \\'cached_tokens\\': 2688}}, \\'model_name\\': \\'gpt-4o-mini-2024-07-18\\', \\'system_fingerprint\\': \\'fp_0aa8d3e20b\\', \\'finish_reason\\': \\'stop\\', \\'logprobs\\': None}, id=\\'run-4155236e-1dd4-410b-a310-b6e1dd96bfce-0\\', usage_metadata={\\'input_tokens\\': 2911, \\'output_tokens\\': 359, \\'total_tokens\\': 3270, \\'input_token_details\\': {\\'audio\\': 0, \\'cache_read\\': 2688}, \\'output_token_details\\': {\\'audio\\': 0, \\'reasoning\\': 0}}), \\'What is the termination policy?\\': AIMessage(content=\\'The termination policy at Zania, Inc. is based on \"at-will\" employment, which means that either the employee or the Company can terminate the employment relationship at any time, with or without notice and with or without cause. This policy does not create a contract for guaranteed or continued employment, nor does it provide rights to termination only \"for cause.\" The CEO is the only person authorized to make promises regarding guaranteed or continued employment, and such promises must be in writing and signed by the CEO. Overall, the Company reserves the right to discipline or terminate employees for any reason permitted by law.\\', additional_kwargs={\\'refusal\\': None}, response_metadata={\\'token_usage\\': {\\'completion_tokens\\': 121, \\'prompt_tokens\\': 3287, \\'total_tokens\\': 3408, \\'completion_tokens_details\\': {\\'accepted_prediction_tokens\\': 0, \\'audio_tokens\\': 0, \\'reasoning_tokens\\': 0, \\'rejected_prediction_tokens\\': 0}, \\'prompt_tokens_details\\': {\\'audio_tokens\\': 0, \\'cached_tokens\\': 0}}, \\'model_name\\': \\'gpt-4o-mini-2024-07-18\\', \\'system_fingerprint\\': \\'fp_0aa8d3e20b\\', \\'finish_reason\\': \\'stop\\', \\'logprobs\\': None}, id=\\'run-3dd7dad9-72be-415a-afa9-b3274dcc2c10-0\\', usage_metadata={\\'input_tokens\\': 3287, \\'output_tokens\\': 121, \\'total_tokens\\': 3408, \\'input_token_details\\': {\\'audio\\': 0, \\'cache_read\\': 0}, \\'output_token_details\\': {\\'audio\\': 0, \\'reasoning\\': 0}})}\\', name=\\'retrieval_qa\\', id=\\'f046b96a-9851-4d13-8369-eb5e6ae90bbc\\', tool_call_id=\\'call_P7Wq1srRhEv2TjnGlVewUl2P\\')]}\\n'"
            ],
            "application/vnd.google.colaboratory.intrinsic+json": {
              "type": "string"
            }
          },
          "metadata": {},
          "execution_count": 88
        }
      ]
    },
    {
      "cell_type": "code",
      "source": [],
      "metadata": {
        "id": "baMCxOO9lwUP"
      },
      "execution_count": null,
      "outputs": []
    }
  ]
}